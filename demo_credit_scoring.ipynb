{
 "cells": [
  {
   "cell_type": "code",
   "execution_count": null,
   "id": "059840a6",
   "metadata": {},
   "outputs": [],
   "source": [
    "# Step 1: Load Data\n",
    "import pandas as pd\n",
    "\n",
    "url = \"https://raw.githubusercontent.com/priandoyo/ml-csm/main/data.csv\"\n",
    "df = pd.read_csv(url)\n",
    "df.head()\n"
   ]
  },
  {
   "cell_type": "code",
   "execution_count": null,
   "id": "97a82a2b",
   "metadata": {},
   "outputs": [],
   "source": [
    "# Step 2: Preprocessing\n",
    "from sklearn.preprocessing import LabelEncoder\n",
    "\n",
    "# Copy original data\n",
    "data = df.copy()\n",
    "\n",
    "# Drop Name column (optional, for this demo we won't use it as feature)\n",
    "data = data.drop(columns=[\"Name\"])\n",
    "\n",
    "# Encode categorical columns\n",
    "label_encoders = {}\n",
    "categorical_cols = ['Job', 'Gender', 'City', 'Approval']\n",
    "\n",
    "for col in categorical_cols:\n",
    "    le = LabelEncoder()\n",
    "    data[col] = le.fit_transform(data[col])\n",
    "    label_encoders[col] = le\n",
    "\n",
    "data.head()\n"
   ]
  },
  {
   "cell_type": "code",
   "execution_count": null,
   "id": "ecf39901",
   "metadata": {},
   "outputs": [],
   "source": [
    "# Step 3: Train a Decision Tree Model\n",
    "from sklearn.tree import DecisionTreeClassifier\n",
    "from sklearn.model_selection import train_test_split\n",
    "\n",
    "X = data.drop(columns=[\"Approval\"])\n",
    "y = data[\"Approval\"]\n",
    "\n",
    "model = DecisionTreeClassifier(max_depth=3, random_state=42)\n",
    "model.fit(X, y)\n"
   ]
  },
  {
   "cell_type": "code",
   "execution_count": null,
   "id": "62db22d9",
   "metadata": {},
   "outputs": [],
   "source": [
    "# Step 4: Visualize the Decision Tree\n",
    "from sklearn.tree import plot_tree\n",
    "import matplotlib.pyplot as plt\n",
    "\n",
    "plt.figure(figsize=(16, 8))\n",
    "plot_tree(model, feature_names=X.columns, class_names=label_encoders['Approval'].classes_, filled=True)\n",
    "plt.title(\"Credit Scoring Decision Tree\")\n",
    "plt.show()\n"
   ]
  },
  {
   "cell_type": "code",
   "execution_count": null,
   "id": "794faae4",
   "metadata": {},
   "outputs": [],
   "source": [
    "# Step 5: Test a Single Customer Manually\n",
    "\n",
    "# Example customer input:\n",
    "sample = {\n",
    "    \"Age\": 32,\n",
    "    \"Job\": \"Engineer\",\n",
    "    \"Gender\": \"M\",\n",
    "    \"City\": \"Bandung\",\n",
    "    \"Salary\": 4700000\n",
    "}\n",
    "\n",
    "# Convert to model input using encoders\n",
    "sample_encoded = pd.DataFrame([{\n",
    "    \"Age\": sample[\"Age\"],\n",
    "    \"Job\": label_encoders[\"Job\"].transform([sample[\"Job\"]])[0],\n",
    "    \"Gender\": label_encoders[\"Gender\"].transform([sample[\"Gender\"]])[0],\n",
    "    \"City\": label_encoders[\"City\"].transform([sample[\"City\"]])[0],\n",
    "    \"Salary\": sample[\"Salary\"]\n",
    "}])\n",
    "\n",
    "# Predict\n",
    "pred = model.predict(sample_encoded)[0]\n",
    "pred_label = label_encoders[\"Approval\"].inverse_transform([pred])[0]\n",
    "\n",
    "print(\"Prediction result:\", pred_label)\n"
   ]
  }
 ],
 "metadata": {
  "language": "python"
 },
 "nbformat": 4,
 "nbformat_minor": 5
}